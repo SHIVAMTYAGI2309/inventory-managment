import json
import time
fd=open("records.json","w")
products={'1001':{"name":"Apple juice","price":40,"quantity":100,"ex_date":"12-8-2020","maf_date":"10-6-2020"},
          '1002':{"name":"orange Juice","price":40,"quantity":100,"ex_date":"12-8-2020","maf_date":"10-6-2020"},
          '1003':{"name":"jackfruit juice","price":40,"quantity":100,"ex_date":"12-8-2020","maf_date":"10-6-2020"} ,
         '1004':{"name":"Apricot Juice","price":40,"quantity":100,"ex_date":"12-8-2020","maf_date":"10-6-2020"},
         '1005':{"name":"Butter Fruit Juice","price":40,"quantity":100,"ex_date":"12-8-2020","maf_date":"10-6-2020"},
         '1006':{"name":"Banana Juice","price":40,"quantity":100,"ex_date":"12-8-2020","maf_date":"10-6-2020"},
         '1007':{"name":"Cape gooseberries Juice","price":40,"quantity":100,"ex_date":"12-8-2020","maf_date":"10-6-2020"},
         '1008':{"name":"Cherry Juice","price":40,"quantity":100,"ex_date":"12-8-2020","maf_date":"10-6-2020"},
         '1009':{"name":"Custard apple Juice","price":40,"quantity":100,"ex_date":"12-8-2020","maf_date":"10-6-2020"},
         '1010':{"name":"Dates Juice","price":40,"quantity":100,"ex_date":"12-8-2020","maf_date":"10-6-2020"},
         '1011':{"name":"Plum Juice","price":40,"quantity":100,"ex_date":"12-8-2020","maf_date":"10-6-2020"},
         '1012':{"name":"Figs Juice","price":40,"quantity":100,"ex_date":"12-8-2020","maf_date":"10-6-2020"},
         '1013':{"name":"Grape Juice","price":40,"quantity":100,"ex_date":"12-8-2020","maf_date":"10-6-2020"},
          '1014':{"name":"Guava Juice","price":40,"quantity":100,"ex_date":"12-8-2020","maf_date":"10-6-2020"},
         '1015':{"name":"Kiwi Juice","price":40,"quantity":100,"ex_date":"12-8-2020","maf_date":"10-6-2020"},
         '1016':{"name":"Lemon Juice","price":40,"quantity":100,"ex_date":"12-8-2020","maf_date":"10-6-2020"},
         '1017':{"name":"Lychee Juice","price":40,"quantity":100,"ex_date":"12-8-2020","maf_date":"10-6-2020"},
         '1018':{"name":"Mango Juice","price":40,"quantity":100,"ex_date":"12-8-2020","maf_date":"10-6-2020"},
         '1019':{"name":"Papaya Juice","price":40,"quantity":100,"ex_date":"12-8-2020","maf_date":"10-6-2020"},
         '1020':{"name":"Pineapple Juice","price":40,"quantity":100,"ex_date":"12-8-2020","maf_date":"10-6-2020"},
         '1021':{"name":"Sapota Juice","price":40,"quantity":100,"ex_date":"12-8-2020","maf_date":"10-6-2020"},
         '1022':{"name":"Star fruit Juice","price":40,"quantity":100,"ex_date":"12-8-2020","maf_date":"10-6-2020"},
         '1023':{"name":"Watermelon Juice","price":40,"quantity":100,"ex_date":"12-8-2020","maf_date":"10-6-2020"},
         '1024':{"name":"Rose Milk","price":40,"quantity":100,"ex_date":"12-8-2020","maf_date":"10-6-2020"},
         '1025':{"name":"badam milk ","price":40,"quantity":100,"ex_date":"12-8-2020","maf_date":"10-6-2020"},
         '1026':{"name":"vannilla milk","price":40,"quantity":100,"ex_date":"12-8-2020","maf_date":"10-6-2020"},
         '1027':{"name":"pista milk","price":40,"quantity":100,"ex_date":"12-8-2020","maf_date":"10-6-2020"},
         '1028':{"name":"blackcurrent milk","price":40,"quantity":100,"ex_date":"12-8-2020","maf_date":"10-6-2020"},
         '1028':{"name":"mixed juice","price":40,"quantity":100,"ex_date":"12-8-2020","maf_date":"10-6-2020"},
         '1030':{"name":"Mojito","price":40,"quantity":100,"ex_date":"12-8-2020","maf_date":"10-6-2020"}}
jformat=json.dumps(products)
fd.write(jformat)
fd.close()
In [3]:
fd=open("records.json","r")
txt=fd.read()
fd.close()
products=json.loads(txt)

fd=open("sales.json","r")
txt=fd.read()
fd.close()
sales=json.loads(txt)
Purchasing The Products
In [19]:
print("*******************MENU*******************")
print("product_id    product_name",end="\n\n")
for i in products.keys():
    print(i,"        ",products[i]["name"])
*******************MENU*******************
product_id    product_name

1001          Apple juice
1002          orange Juice
1003          jackfruit juice
1004          Apricot Juice
1005          Butter Fruit Juice
1006          Banana Juice
1007          Cape gooseberries Juice
1008          Cherry Juice
1009          Custard apple Juice
1010          Dates Juice
1011          Plum Juice
1012          Figs Juice
1013          Grape Juice
1014          Guava Juice
1015          Kiwi Juice
1016          Lemon Juice
1017          Lychee Juice
1018          Mango Juice
1019          Papaya Juice
1020          Pineapple Juice
1021          Sapota Juice
1022          Star fruit Juice
1023          Watermelon Juice
1024          Rose Milk
1025          badam milk 
1026          vannilla milk
1027          pista milk
1028          mixed juice
1030          Mojito
Getting Product Id and quantity
In [30]:
user_id=input("Enter the product id :")
quantity=int(input("Enter The Quantity :"))
product_id=products.keys()

if (user_id not in product_id):
    print("Entered wrong Product Id ")
    
    
    
flag=0
if(products[user_id]["quantity"]<quantity):
    print("The available quantity is :" ,products[user_id]["quantity"])
    ans=int(input("Do you want to take these quantity(1-yes/0-No)"))
    if(ans):
        print("The bill is processed!!")
        quantity=products[user_id]["quantity"]
        
    else:
        flag=1
        print("choose any other product")
  
products[user_id]["quantity"]-=quantity
Enter the product id :1020
Enter The Quantity :1
Printing The Bill
In [32]:
if(flag==0):
    print("*************Bill***********",end=" ")
    print("Time :",time.ctime(),"**********************")
    print("Product :",products[user_id]["name"])
    print("Quanity :",quantity)
    print("Price :",products[user_id]["price"])
    print("Billing Amount :",products[user_id]["price"]*quantity)
    print("***********************************************************************************")
*************Bill*********** Time : Sun Sep  5 23:07:39 2021 **********************
Product : Pineapple Juice
Quanity : 1
Price : 40
Billing Amount : 40
***********************************************************************************
Making Transaction Details
In [37]:
trans_id=len(sales)+1
trans_details=products[user_id].copy()
trans_details['time']=time.ctime()
trans_details['quantity']=quantity
sales[trans_id]=trans_details
Adding the products to the Inventory
In [35]:
print("To Add Product")
product_id=products.keys()
new_id=input("Enter the id of the product")
if new_id in product_id:
    qun=int(input("Enter the product Quantity"))
    products[new_id]["quantity"]+=qun
    print("Qunatity Added")
else:
    nname=input("Enter the name of the product")
    nprice=int(input("enter the price"))
    nquantity=int(input("enter the quantity"))
    nmdate=input("Enter the maf date of the product")
    medate=input("Enter the ex date of the product")
    new_product["name"]=nname
    new_product["price"]=nprice
    new_product["quantity"]=nquantity
    new_product["ex_date"]=medate
    new_product["maf_date"]=nmdate
    products[new_id]=new_product
To Add Product
Enter the id of the product1030
Enter the product Quantity10
In [36]:
fd=open("records.json","w")
jformat=json.dumps(products)
fd.write(jformat)
fd.close()
In [38]:
fd=open("sales.json","w")
jformat=json.dumps(sales)
fd.write(jformat)
fd.close()
